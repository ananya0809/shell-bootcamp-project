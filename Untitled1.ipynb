{
 "cells": [
  {
   "cell_type": "code",
   "execution_count": 3,
   "id": "fd4947a5",
   "metadata": {},
   "outputs": [
    {
     "name": "stdout",
     "output_type": "stream",
     "text": [
      "enter P1: 9\n",
      "enter V1: 8\n",
      "enter P2: 0\n",
      "value not accepted\n",
      "enter P2: 9\n",
      "8.0\n"
     ]
    }
   ],
   "source": [
    "def calculate_boyle_temperature():\n",
    "    P1 = input(\"enter P1: \")\n",
    "    V1 = input(\"enter V1: \")\n",
    "    P2 = input(\"enter P2: \")\n",
    "    if int(P2) <= 0:\n",
    "        print(\"value not accepted\")\n",
    "        P2 = input(\"re-enter P2: \")\n",
    "    V2 = ((float(P1) * float(V1)) / float(P2))\n",
    "    print(float(V2))\n",
    "\n",
    "calculate_boyle_temperature()"
   ]
  },
  {
   "cell_type": "code",
   "execution_count": null,
   "id": "405fd9d1",
   "metadata": {},
   "outputs": [],
   "source": []
  },
  {
   "cell_type": "code",
   "execution_count": null,
   "id": "7c5b1988",
   "metadata": {},
   "outputs": [],
   "source": []
  }
 ],
 "metadata": {
  "kernelspec": {
   "display_name": "Python 3 (ipykernel)",
   "language": "python",
   "name": "python3"
  },
  "language_info": {
   "codemirror_mode": {
    "name": "ipython",
    "version": 3
   },
   "file_extension": ".py",
   "mimetype": "text/x-python",
   "name": "python",
   "nbconvert_exporter": "python",
   "pygments_lexer": "ipython3",
   "version": "3.11.4"
  }
 },
 "nbformat": 4,
 "nbformat_minor": 5
}
