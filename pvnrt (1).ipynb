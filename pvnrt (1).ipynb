{
 "cells": [
  {
   "cell_type": "code",
   "execution_count": 1,
   "id": "beca091a",
   "metadata": {},
   "outputs": [
    {
     "name": "stdout",
     "output_type": "stream",
     "text": [
      "enter P1: 8\n",
      "enter V1: 9\n",
      "enter P2: 8\n",
      "9.0\n"
     ]
    }
   ],
   "source": [
    "def calculate_boyle_temperature():\n",
    "    P1 = input(\"enter P1: \") #pressure of gas 1\n",
    "    V1 = input(\"enter V1: \") #volume of gas 1\n",
    "    P2 = input(\"enter P2: \") #pressure of gas 2\n",
    "    if int(P2) <= 0:\n",
    "        print(\"value not accepted\")\n",
    "        P2 = input(\"re-enter P2: \")\n",
    "    V2 = ((float(P1) * float(V1)) / float(P2))\n",
    "    print(float(V2)) #volume of gas 2\n",
    "\n",
    "calculate_boyle_temperature()"
   ]
  },
  {
   "cell_type": "code",
   "execution_count": 7,
   "id": "8e81bf35",
   "metadata": {},
   "outputs": [
    {
     "name": "stdout",
     "output_type": "stream",
     "text": [
      "8.0\n"
     ]
    }
   ],
   "source": [
    "v2 = lambda P1, V1, P2: ((float(P1) * float(V1)) / float(P2))\n",
    "print(v2(5, 8, 5))"
   ]
  },
  {
   "cell_type": "code",
   "execution_count": 5,
   "id": "3d10c7ec",
   "metadata": {},
   "outputs": [
    {
     "name": "stdout",
     "output_type": "stream",
     "text": [
      "Hello ananya Wassuppp!\n"
     ]
    }
   ],
   "source": [
    "def namey(name):\n",
    "    print(\"Hello \" + str(name) + \" Wassuppp!\")\n",
    "    \n",
    "namey(\"ananya\")"
   ]
  }
 ],
 "metadata": {
  "kernelspec": {
   "display_name": "Python 3 (ipykernel)",
   "language": "python",
   "name": "python3"
  },
  "language_info": {
   "codemirror_mode": {
    "name": "ipython",
    "version": 3
   },
   "file_extension": ".py",
   "mimetype": "text/x-python",
   "name": "python",
   "nbconvert_exporter": "python",
   "pygments_lexer": "ipython3",
   "version": "3.11.4"
  }
 },
 "nbformat": 4,
 "nbformat_minor": 5
}
