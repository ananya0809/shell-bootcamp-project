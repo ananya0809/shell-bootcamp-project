{
 "cells": [
  {
   "cell_type": "code",
   "execution_count": 1,
   "id": "a78c3ae0",
   "metadata": {},
   "outputs": [],
   "source": [
    "dates = ['2023-09-01', '2023-09-02', '2023-09-03', '2023-09-04', '2023-09-05']\n",
    "temperature = [78, 82, 79, 85, 88]\n",
    "humidity = [60, 65, 62, 58, 57]\n",
    "precipitation = [0.0, 0.2, 0.0, 0.0, 0.0]\n",
    "\n",
    "\n",
    "weather_data = list(zip(dates, temperature, humidity, precipitation))\n"
   ]
  },
  {
   "cell_type": "code",
   "execution_count": 10,
   "id": "7465dd56",
   "metadata": {},
   "outputs": [],
   "source": [
    "# hot_days = []\n",
    "# for idx , temp in enumerate(temperature):\n",
    "#     if temp > 80:\n",
    "#         hot_days.append(dates[idx])\n",
    "        \n",
    "hot_days = []\n",
    "for temp in temperature:\n",
    "    if temp > 80:\n",
    "        hot_days.append(temp)\n",
    "        \n",
    "weather_forecast = []\n",
    "for temp in temperature:\n",
    "    if temp >85:\n",
    "        forecast = \"Hot and Sunny\"\n",
    "    elif 80 <= temp <= 85:\n",
    "        forecast = \"warm and pleasant\"\n",
    "    else:\n",
    "        forecast = \"cool and comfortable\"\n",
    "    weather"
   ]
  },
  {
   "cell_type": "code",
   "execution_count": 11,
   "id": "41d94a3d",
   "metadata": {},
   "outputs": [
    {
     "name": "stdout",
     "output_type": "stream",
     "text": [
      "[]\n"
     ]
    }
   ],
   "source": [
    "print(weather_forecast)"
   ]
  },
  {
   "cell_type": "code",
   "execution_count": 12,
   "id": "8cb0d847",
   "metadata": {},
   "outputs": [
    {
     "name": "stdout",
     "output_type": "stream",
     "text": [
      "[82, 85, 88]\n"
     ]
    }
   ],
   "source": [
    "print(hot_days)"
   ]
  },
  {
   "cell_type": "code",
   "execution_count": 4,
   "id": "af9ad890",
   "metadata": {},
   "outputs": [
    {
     "name": "stdout",
     "output_type": "stream",
     "text": [
      "[('2023-09-01', 78, 60, 0.0), ('2023-09-02', 82, 65, 0.2), ('2023-09-03', 79, 62, 0.0), ('2023-09-04', 85, 58, 0.0), ('2023-09-05', 88, 57, 0.0)]\n"
     ]
    }
   ],
   "source": [
    "print(weather_data)\n",
    "    "
   ]
  },
  {
   "cell_type": "code",
   "execution_count": 5,
   "id": "ed3a94e3",
   "metadata": {},
   "outputs": [],
   "source": [
    "dictionary = dict(zip(dates, weather_forecast))"
   ]
  }
 ],
 "metadata": {
  "kernelspec": {
   "display_name": "Python 3 (ipykernel)",
   "language": "python",
   "name": "python3"
  },
  "language_info": {
   "codemirror_mode": {
    "name": "ipython",
    "version": 3
   },
   "file_extension": ".py",
   "mimetype": "text/x-python",
   "name": "python",
   "nbconvert_exporter": "python",
   "pygments_lexer": "ipython3",
   "version": "3.11.4"
  }
 },
 "nbformat": 4,
 "nbformat_minor": 5
}
